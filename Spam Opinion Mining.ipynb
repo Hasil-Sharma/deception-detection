{
 "cells": [
  {
   "cell_type": "code",
   "execution_count": 109,
   "metadata": {
    "ExecuteTime": {
     "end_time": "2017-12-20T10:59:11.121467Z",
     "start_time": "2017-12-20T10:59:11.105820Z"
    }
   },
   "outputs": [],
   "source": [
    "import random\n",
    "import pandas as pd\n",
    "import numpy as np\n",
    "import nltk\n",
    "from nltk import word_tokenize\n",
    "from nltk.corpus import stopwords\n",
    "from sklearn.model_selection import StratifiedKFold\n",
    "from sklearn.naive_bayes import MultinomialNB\n",
    "from sklearn.feature_extraction.text import CountVectorizer\n",
    "import sys\n",
    "stdout = sys.stdout\n",
    "reload(sys)\n",
    "sys.setdefaultencoding('utf-8')\n",
    "sys.stdout = stdout"
   ]
  },
  {
   "cell_type": "code",
   "execution_count": 2,
   "metadata": {
    "ExecuteTime": {
     "end_time": "2017-12-20T08:55:58.793670Z",
     "start_time": "2017-12-20T08:55:58.791941Z"
    }
   },
   "outputs": [],
   "source": [
    "true_class, false_class = 'T','F'\n",
    "# random.seed(1245)"
   ]
  },
  {
   "cell_type": "markdown",
   "metadata": {},
   "source": [
    "#  Reading the data and converting into DataFrame"
   ]
  },
  {
   "cell_type": "code",
   "execution_count": 3,
   "metadata": {
    "ExecuteTime": {
     "end_time": "2017-12-20T08:55:58.806406Z",
     "start_time": "2017-12-20T08:55:58.795416Z"
    }
   },
   "outputs": [],
   "source": [
    "read_file = lambda x : [tuple(line.strip().split(\"\\t\")) for line in open(x).readlines() if len(line.strip()) > 0]\n",
    "assign_class = lambda x,y : [l + (y, ) for l in x]\n",
    "\n",
    "true_lines = assign_class(read_file(\"./hotelT-train.txt\"), true_class)\n",
    "false_lines = assign_class(read_file(\"./hotelF-train.txt\"), false_class)\n",
    "\n",
    "all_lines = true_lines + false_lines\n",
    "\n",
    "random.shuffle(all_lines)\n",
    "\n",
    "raw_data_pd = pd.DataFrame(all_lines, columns = [\"id\", \"sentence\", \"class\"])"
   ]
  },
  {
   "cell_type": "markdown",
   "metadata": {},
   "source": [
    "# Tokenizing the sentences, removing stop words"
   ]
  },
  {
   "cell_type": "code",
   "execution_count": 4,
   "metadata": {
    "ExecuteTime": {
     "end_time": "2017-12-20T08:55:59.232930Z",
     "start_time": "2017-12-20T08:55:58.807444Z"
    }
   },
   "outputs": [],
   "source": [
    "stop_words = set(stopwords.words('english'))\n",
    "raw_data_pd[\"sentence_tokens\"] = raw_data_pd[\"sentence\"].apply(lambda x : [token.lower() for token in word_tokenize(x) if token.isalpha() and token.lower() not in stop_words])"
   ]
  },
  {
   "cell_type": "markdown",
   "metadata": {},
   "source": [
    "# K-Fold cross validation with all words as features"
   ]
  },
  {
   "cell_type": "code",
   "execution_count": 132,
   "metadata": {
    "ExecuteTime": {
     "end_time": "2017-12-20T11:06:01.869750Z",
     "start_time": "2017-12-20T11:06:01.514851Z"
    }
   },
   "outputs": [
    {
     "name": "stdout",
     "output_type": "stream",
     "text": [
      "0.478463203463\n"
     ]
    }
   ],
   "source": [
    "raw_data_pd = raw_data_pd.sample(frac=1).reset_index(drop=True)\n",
    "tokens = raw_data_pd[\"sentence_tokens\"]\n",
    "labels = raw_data_pd[\"class\"]\n",
    "kf = StratifiedKFold(n_splits=10)\n",
    "accuracy = []\n",
    "for train_idx, test_idx in kf.split(tokens, labels):\n",
    "    X_train, X_test = [tokens[i] for i in train_idx], [tokens[i] for i in test_idx]\n",
    "    y_train, y_test = [labels[i] for i in train_idx], [labels[i] for i in test_idx]\n",
    "    vectorizer = CountVectorizer()\n",
    "    train_features = vectorizer.fit_transform(map(lambda x : \" \".join(x), X_train))\n",
    "    test_features = vectorizer.transform(map(lambda x : \" \".join(x), X_test))\n",
    "    classifier = MultinomialNB()\n",
    "    classifier.fit(train_features, y_train)\n",
    "    predictions = classifier.predict(test_features)\n",
    "    accuracy.append(np.sum(y_test == predictions)*1.0/ len(y_test))\n",
    "print np.average(accuracy)"
   ]
  },
  {
   "cell_type": "code",
   "execution_count": null,
   "metadata": {},
   "outputs": [],
   "source": []
  }
 ],
 "metadata": {
  "kernelspec": {
   "display_name": "Python 2",
   "language": "python",
   "name": "python2"
  },
  "language_info": {
   "codemirror_mode": {
    "name": "ipython",
    "version": 2
   },
   "file_extension": ".py",
   "mimetype": "text/x-python",
   "name": "python",
   "nbconvert_exporter": "python",
   "pygments_lexer": "ipython2",
   "version": "2.7.14"
  },
  "varInspector": {
   "cols": {
    "lenName": 16,
    "lenType": 16,
    "lenVar": 40
   },
   "kernels_config": {
    "python": {
     "delete_cmd_postfix": "",
     "delete_cmd_prefix": "del ",
     "library": "var_list.py",
     "varRefreshCmd": "print(var_dic_list())"
    },
    "r": {
     "delete_cmd_postfix": ") ",
     "delete_cmd_prefix": "rm(",
     "library": "var_list.r",
     "varRefreshCmd": "cat(var_dic_list()) "
    }
   },
   "types_to_exclude": [
    "module",
    "function",
    "builtin_function_or_method",
    "instance",
    "_Feature"
   ],
   "window_display": false
  }
 },
 "nbformat": 4,
 "nbformat_minor": 2
}
